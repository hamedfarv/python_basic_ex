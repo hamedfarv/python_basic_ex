{
 "metadata": {
  "language_info": {
   "codemirror_mode": {
    "name": "ipython",
    "version": 3
   },
   "file_extension": ".py",
   "mimetype": "text/x-python",
   "name": "python",
   "nbconvert_exporter": "python",
   "pygments_lexer": "ipython3",
   "version": "2.7.17"
  },
  "orig_nbformat": 2,
  "kernelspec": {
   "name": "python2717jvsc74a57bd05c3b02fa24688d32a1d09351b7f8eac82a87272ad081601c73caead00a8e1fc4",
   "display_name": "Python 2.7.17 64-bit"
  },
  "metadata": {
   "interpreter": {
    "hash": "5c3b02fa24688d32a1d09351b7f8eac82a87272ad081601c73caead00a8e1fc4"
   }
  }
 },
 "nbformat": 4,
 "nbformat_minor": 2,
 "cells": [
  {
   "cell_type": "code",
   "execution_count": 1,
   "metadata": {},
   "outputs": [
    {
     "output_type": "stream",
     "name": "stdout",
     "text": [
      "heyy\n"
     ]
    }
   ],
   "source": [
    "print(\"heyy\")"
   ]
  },
  {
   "cell_type": "code",
   "execution_count": 2,
   "metadata": {},
   "outputs": [
    {
     "output_type": "execute_result",
     "data": {
      "text/plain": [
       "int"
      ]
     },
     "metadata": {},
     "execution_count": 2
    }
   ],
   "source": [
    "type(123)"
   ]
  },
  {
   "cell_type": "code",
   "execution_count": 5,
   "metadata": {},
   "outputs": [
    {
     "output_type": "stream",
     "name": "stdout",
     "text": [
      "0246\n"
     ]
    }
   ],
   "source": [
    "Numbers=\"0123456\"\n",
    "print(Numbers[::2])"
   ]
  },
  {
   "cell_type": "code",
   "execution_count": 8,
   "metadata": {},
   "outputs": [
    {
     "output_type": "stream",
     "name": "stdout",
     "text": [
      "Li\n"
     ]
    }
   ],
   "source": [
    "name = 'Lizz'\n",
    "print(name[0:2])"
   ]
  },
  {
   "cell_type": "code",
   "execution_count": 2,
   "metadata": {},
   "outputs": [
    {
     "output_type": "stream",
     "name": "stdout",
     "text": [
      "0246\n"
     ]
    }
   ],
   "source": [
    "var = '01234567'\n",
    "print(var[::2])"
   ]
  },
  {
   "cell_type": "code",
   "execution_count": 6,
   "metadata": {},
   "outputs": [
    {
     "output_type": "stream",
     "name": "stdout",
     "text": [
      "['b', 'c']\n"
     ]
    }
   ],
   "source": [
    "B=[\"a\",\"b\",\"c\"]\n",
    "print(B[1:])"
   ]
  },
  {
   "cell_type": "code",
   "execution_count": 7,
   "metadata": {},
   "outputs": [
    {
     "output_type": "stream",
     "name": "stdout",
     "text": [
      "set(['A', 'C', 'B', 'Z'])\n"
     ]
    }
   ],
   "source": [
    "S={'A','B','C'}\n",
    "\n",
    "U={'A','Z','C'}\n",
    "\n",
    "print(U.union(S))"
   ]
  },
  {
   "cell_type": "code",
   "execution_count": 9,
   "metadata": {},
   "outputs": [
    {
     "output_type": "stream",
     "name": "stdout",
     "text": [
      "1\n"
     ]
    }
   ],
   "source": [
    "D={'a':0,'b':1,'c':2}\n",
    "print(D['b'])\n"
   ]
  },
  {
   "cell_type": "code",
   "execution_count": 11,
   "metadata": {},
   "outputs": [
    {
     "output_type": "stream",
     "name": "stdout",
     "text": [
      "(4, 4, 4)\n"
     ]
    }
   ],
   "source": [
    "Dict={\"A\":1,\"B\":\"2\",\"C\":[3,3,3],\"D\":(4,4,4),'E':5,'F':6}\n",
    "print(Dict[\"D\"])"
   ]
  },
  {
   "cell_type": "code",
   "execution_count": null,
   "metadata": {},
   "outputs": [],
   "source": []
  }
 ]
}